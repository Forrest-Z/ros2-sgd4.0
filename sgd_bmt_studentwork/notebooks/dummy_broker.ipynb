{
 "cells": [
  {
   "attachments": {},
   "cell_type": "markdown",
   "metadata": {},
   "source": [
    "### 1. Notwendige Bibliotheken müssen am Anfang installiert werden\n",
    "python 3.9.6 wird empfohlen."
   ]
  },
  {
   "cell_type": "code",
   "execution_count": null,
   "metadata": {},
   "outputs": [],
   "source": [
    "!pip3 install paho-mqtt\n"
   ]
  },
  {
   "attachments": {},
   "cell_type": "markdown",
   "metadata": {},
   "source": [
    "### 2. Notwendige Bibliotheken und Dummy Daten werden importiert.\n"
   ]
  },
  {
   "cell_type": "code",
   "execution_count": 1,
   "metadata": {},
   "outputs": [],
   "source": [
    "import time\n",
    "import json\n",
    "import time\n",
    "import subprocess\n",
    "import paho.mqtt.client as mqtt\n",
    "\n",
    "mainPath = \"./dumy_data/\"\n"
   ]
  },
  {
   "cell_type": "code",
   "execution_count": 80,
   "metadata": {},
   "outputs": [],
   "source": [
    "# Open log file and read messages\n",
    "with open(mainPath + \"spat.json\", \"r\") as spat_file:\n",
    "    lines_spat = spat_file.readlines()\n",
    "with open(mainPath + \"map.json\", \"r\") as map_file:\n",
    "    lines_map = map_file.readlines()\n",
    "with open(mainPath + \"gps.json\", \"r\") as gps_file:\n",
    "    lines_gps = gps_file.readlines()"
   ]
  },
  {
   "attachments": {},
   "cell_type": "markdown",
   "metadata": {},
   "source": [
    "### 3. Broker einrichten und starten (mosquitto muss davor installiert werden https://mosquitto.org/download/)"
   ]
  },
  {
   "cell_type": "code",
   "execution_count": 11,
   "metadata": {},
   "outputs": [
    {
     "name": "stderr",
     "output_type": "stream",
     "text": [
      "1686775307: mosquitto version 2.0.15 starting\n",
      "1686775307: Using default config.\n",
      "1686775307: Starting in local only mode. Connections will only be possible from clients running on this machine.\n",
      "1686775307: Create a configuration file which defines a listener to allow remote access.\n",
      "1686775307: For more details see https://mosquitto.org/documentation/authentication-methods/\n",
      "1686775307: Opening ipv4 listen socket on port 1883.\n",
      "1686775307: Opening ipv6 listen socket on port 1883.\n",
      "1686775307: mosquitto version 2.0.15 running\n"
     ]
    }
   ],
   "source": [
    "mosquitto_process = subprocess.Popen([\"mosquitto\"])"
   ]
  },
  {
   "attachments": {},
   "cell_type": "markdown",
   "metadata": {},
   "source": [
    "### 4. Client einrichten und mit Broker verbinden. Dummy Daten werden von diesem Client veröffentlicht"
   ]
  },
  {
   "cell_type": "code",
   "execution_count": 82,
   "metadata": {},
   "outputs": [
    {
     "name": "stdout",
     "output_type": "stream",
     "text": [
      "Connected with result code 0\n"
     ]
    },
    {
     "name": "stderr",
     "output_type": "stream",
     "text": [
      "1686805404: New connection from ::1:54370 on port 1883.\n",
      "1686805404: New client connected from ::1:54370 as auto-94C99A8E-3B8D-DC05-9362-469735213367 (p2, c1, k60).\n"
     ]
    }
   ],
   "source": [
    "def on_connect(client, userdata, flags, rc):\n",
    "    print(f\"Connected with result code {rc}\")\n",
    "    client.subscribe(\"your/topic\")\n",
    "\n",
    "def on_message(client, userdata, msg):\n",
    "    print(f\"Received message: {msg.topic} {msg.payload.decode()}\")\n",
    "\n",
    "# def on_publish(client, userdata, mid):\n",
    "    # print(f\"Message published (mid: {mid})\")\n",
    "\n",
    "# Set up MQTT client\n",
    "client = mqtt.Client()\n",
    "client.on_connect = on_connect\n",
    "client.on_message = on_message\n",
    "# client.on_publish = on_publish\n",
    "\n",
    "client.connect(\"localhost\", 1883)\n",
    "client.loop_start()"
   ]
  },
  {
   "attachments": {},
   "cell_type": "markdown",
   "metadata": {},
   "source": [
    "### 4. Alle Daten bei jeweiligem Topic veröffentlichen. (Dummy Broker wird gerstartet)"
   ]
  },
  {
   "cell_type": "code",
   "execution_count": 83,
   "metadata": {},
   "outputs": [
    {
     "name": "stderr",
     "output_type": "stream",
     "text": [
      "1686805491: Client auto-0B183C84-5DF5-9501-44E8-F18565D07E7D closed its connection.\n",
      "1686805508: New connection from 127.0.0.1:54421 on port 1883.\n",
      "1686805508: New client connected from 127.0.0.1:54421 as auto-7DB36EB2-68CA-385E-F51C-5EC46DB8C376 (p2, c1, k60).\n",
      "1686805631: Client auto-7DB36EB2-68CA-385E-F51C-5EC46DB8C376 closed its connection.\n"
     ]
    },
    {
     "ename": "KeyboardInterrupt",
     "evalue": "",
     "output_type": "error",
     "traceback": [
      "\u001b[0;31m---------------------------------------------------------------------------\u001b[0m",
      "\u001b[0;31mKeyboardInterrupt\u001b[0m                         Traceback (most recent call last)",
      "\u001b[1;32m/Users/helmer/Documents/haw-hamburg.de/shareddog/notebooks/dummy_broker.ipynb Cell 11\u001b[0m in \u001b[0;36m2\n\u001b[1;32m     <a href='vscode-notebook-cell:/Users/helmer/Documents/haw-hamburg.de/shareddog/notebooks/dummy_broker.ipynb#X13sZmlsZQ%3D%3D?line=16'>17</a>\u001b[0m client\u001b[39m.\u001b[39mpublish(gpsTopic, json\u001b[39m.\u001b[39mdumps(gps_msg))\n\u001b[1;32m     <a href='vscode-notebook-cell:/Users/helmer/Documents/haw-hamburg.de/shareddog/notebooks/dummy_broker.ipynb#X13sZmlsZQ%3D%3D?line=18'>19</a>\u001b[0m \u001b[39m# sleep\u001b[39;00m\n\u001b[0;32m---> <a href='vscode-notebook-cell:/Users/helmer/Documents/haw-hamburg.de/shareddog/notebooks/dummy_broker.ipynb#X13sZmlsZQ%3D%3D?line=19'>20</a>\u001b[0m time\u001b[39m.\u001b[39;49msleep(rate)\n",
      "\u001b[0;31mKeyboardInterrupt\u001b[0m: "
     ]
    }
   ],
   "source": [
    "# Send each messages to MQTT broker\n",
    "rate = 2\n",
    "spatTopic = \"v2x-uca/output/json/spat\"\n",
    "mapTopic = \"v2x-uca/output/json/map\"\n",
    "gpsTopic = \"v2x/rx/obu_gnss\"\n",
    "\n",
    "for line_spat, line_map, line_gps in zip(lines_spat, lines_map, lines_gps):\n",
    "\n",
    "    # extract spat, map and gps\n",
    "    spat_msg = json.loads(line_spat)\n",
    "    map_msg = json.loads(line_map)\n",
    "    gps_msg = json.loads(line_gps)\n",
    "\n",
    "    # publish spat, map and gps\n",
    "    client.publish(spatTopic, json.dumps(spat_msg))\n",
    "    client.publish(mapTopic, json.dumps(map_msg))\n",
    "    client.publish(gpsTopic, json.dumps(gps_msg))\n",
    "\n",
    "    # sleep\n",
    "    time.sleep(rate)\n",
    "\n"
   ]
  },
  {
   "attachments": {},
   "cell_type": "markdown",
   "metadata": {},
   "source": [
    "Um alle gepushlished Nachrichten zu sehen, hat man 2 Möglichkeiten:\n",
    "<br>\n",
    "<br>\n",
    "Alternative 1. Einen lokalen mosquitto client kann im Terminal gestartet werden. \n",
    "<br>\n",
    "  1.1. mosquitto muss davor installiert werden.<br>\n",
    "  2.2. Im Terminal `mosquitto_sub -h localhost -t \"#\"` ausführen \n",
    "<br>\n",
    "<br>\n",
    "\n",
    "Alternative 2. Docker container `nodered`.\n",
    "<br>\n",
    "  2.1. `Docker` und `Docker Compose` müssen davor installiert werden.<br>\n",
    "  2.2. Im Terminal `docker compose --profile development up nodered` ausführen.<br>\n",
    "  2.3. Im browser http://localhost:1880 öffnen. "
   ]
  },
  {
   "attachments": {},
   "cell_type": "markdown",
   "metadata": {},
   "source": [
    "### 5. Clean up"
   ]
  },
  {
   "cell_type": "code",
   "execution_count": 84,
   "metadata": {},
   "outputs": [
    {
     "name": "stderr",
     "output_type": "stream",
     "text": [
      "1686805727: Client auto-94C99A8E-3B8D-DC05-9362-469735213367 disconnected.\n"
     ]
    }
   ],
   "source": [
    "# Disconnect from MQTT broker\n",
    "client.disconnect()\n",
    "client.loop_stop()"
   ]
  },
  {
   "cell_type": "code",
   "execution_count": 85,
   "metadata": {},
   "outputs": [
    {
     "name": "stderr",
     "output_type": "stream",
     "text": [
      "1686805728: mosquitto version 2.0.15 terminating\n"
     ]
    }
   ],
   "source": [
    "# stop the MQTT broker\n",
    "mosquitto_process.terminate()"
   ]
  }
 ],
 "metadata": {
  "kernelspec": {
   "display_name": "base",
   "language": "python",
   "name": "python3"
  },
  "language_info": {
   "codemirror_mode": {
    "name": "ipython",
    "version": 3
   },
   "file_extension": ".py",
   "mimetype": "text/x-python",
   "name": "python",
   "nbconvert_exporter": "python",
   "pygments_lexer": "ipython3",
   "version": "3.9.6"
  },
  "orig_nbformat": 4
 },
 "nbformat": 4,
 "nbformat_minor": 2
}
